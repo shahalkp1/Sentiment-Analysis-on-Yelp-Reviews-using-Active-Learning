{
 "cells": [
  {
   "cell_type": "code",
   "execution_count": 1,
   "metadata": {},
   "outputs": [],
   "source": [
    "import pandas as pd\n",
    "#This contain 200 data which is labelled initially for training\n",
    "train_data= pd.read_csv(r\"C:\\Users\\shaha\\Desktop\\IBS\\yelp\\train_data_init.csv\",index_col=False)\n",
    "#This contain 87 data which is labelled for testing\n",
    "test_data=pd.read_csv(r\"C:\\Users\\shaha\\Desktop\\IBS\\yelp\\test_data.csv\",index_col=False)"
   ]
  },
  {
   "cell_type": "code",
   "execution_count": 2,
   "metadata": {},
   "outputs": [],
   "source": [
    "#cleaning the text\n",
    "from nltk.stem.snowball import SnowballStemmer\n",
    "stemmer = SnowballStemmer(\"english\")\n",
    "import nltk\n",
    "from nltk.corpus import stopwords\n",
    "my_stopwords = set(stopwords.words('english') + ['super', 'duper', 'place'])\n",
    "from nltk.tokenize import word_tokenize\n",
    "import string\n",
    "def clean(tex):\n",
    "  tex = tex.replace(\"&amp;amp;\", '').replace(\"\\'\",'') \n",
    "  tex=tex.str.replace(r'\\d+','')\n",
    "  tex = tex.str.replace('@user', '')\n",
    "  tex = tex.str.replace(\"[^a-zA-Z#]\", \" \" )\n",
    "  tex = tex.str.replace(\"#\", \" \")\n",
    "  tex = tex.str.replace(\"-\", \" \")\n",
    "  tex = tex.str.replace(\"$\", \" \")\n",
    "  tex = tex.apply(lambda x: x.split())\n",
    "  tex= tex.apply(lambda x: [stemmer.stem(i) for i in x])\n",
    "  def process(text):\n",
    "    # Check characters to see if they are in punctuation\n",
    "    nopunc = set(char for char in list(text) if char not in string.punctuation)\n",
    "    # Join the characters to form the string.\n",
    "    nopunc = \" \".join(nopunc)\n",
    "    # remove any stopwords if present\n",
    "    return [word for word in nopunc.lower().split() if word.lower() not in my_stopwords]\n",
    "  tex = tex.apply(process)\n",
    "  return tex"
   ]
  },
  {
   "cell_type": "code",
   "execution_count": 3,
   "metadata": {},
   "outputs": [],
   "source": [
    "#Active learning\n",
    "import scipy.sparse as sp\n",
    "import pandas as pd\n",
    "from sklearn.linear_model import LogisticRegression\n",
    "from sklearn.svm import SVC\n",
    "from sklearn.experimental import enable_halving_search_cv\n",
    "from sklearn.model_selection import HalvingGridSearchCV\n",
    "from sklearn.ensemble import RandomForestClassifier\n",
    "def add_data(x,y):\n",
    "    x=sp.vstack((x,y))\n",
    "    return x\n",
    "def add_label(x,y):\n",
    "    x=np.concatenate((x,y))\n",
    "    return x\n",
    "def fit_model(x,y):\n",
    "    solvers = ['liblinear']\n",
    "    penalty = ['l2']\n",
    "    c_values = [ 0.358]\n",
    "    param_grid = dict(solver=solvers,penalty=penalty,C=c_values)\n",
    "    #model=LogisticRegression(class_weight='balanced', random_state=42)\n",
    "    base_estimator = LogisticRegression()\n",
    "    model = HalvingGridSearchCV(base_estimator, param_grid, n_jobs=-1, scoring='accuracy',error_score=0)\n",
    "    model.fit(x,y)\n",
    "    return model\n",
    "from scipy.stats import entropy\n",
    "import numpy as np\n",
    "def multi_argmax(values, n_instances=110):\n",
    "    max_idx = np.argpartition(-values, n_instances-1, axis=0)[:n_instances]\n",
    "    return max_idx\n",
    "def entropy_sampling( X,n_instances= 110):\n",
    "    ent=np.transpose(entropy(np.transpose(X)))\n",
    "    return multi_argmax(ent, n_instances=n_instances)"
   ]
  },
  {
   "cell_type": "code",
   "execution_count": 4,
   "metadata": {},
   "outputs": [
    {
     "name": "stderr",
     "output_type": "stream",
     "text": [
      "<ipython-input-2-9f415afe60e3>:11: FutureWarning: The default value of regex will change from True to False in a future version.\n",
      "  tex=tex.str.replace(r'\\d+','')\n",
      "<ipython-input-2-9f415afe60e3>:13: FutureWarning: The default value of regex will change from True to False in a future version.\n",
      "  tex = tex.str.replace(\"[^a-zA-Z#]\", \" \" )\n",
      "<ipython-input-2-9f415afe60e3>:16: FutureWarning: The default value of regex will change from True to False in a future version. In addition, single character regular expressions will*not* be treated as literal strings when regex=True.\n",
      "  tex = tex.str.replace(\"$\", \" \")\n"
     ]
    }
   ],
   "source": [
    "#cleaning train and test data\n",
    "train_data_text=clean(train_data['text'])\n",
    "test_data_text=clean(test_data['text'])"
   ]
  },
  {
   "cell_type": "code",
   "execution_count": 5,
   "metadata": {},
   "outputs": [],
   "source": [
    "from sklearn.feature_extraction.text import CountVectorizer, TfidfTransformer,TfidfVectorizer\n",
    "from sklearn.ensemble import RandomForestClassifier\n",
    "from sklearn.metrics import accuracy_score"
   ]
  },
  {
   "cell_type": "code",
   "execution_count": 6,
   "metadata": {},
   "outputs": [
    {
     "name": "stdout",
     "output_type": "stream",
     "text": [
      "length of training data:  198\n",
      "length of testing data:  87\n",
      "train accuracy :  68.68686868686868\n",
      "test accuracy:  67.81609195402298\n"
     ]
    }
   ],
   "source": [
    "#Building Initial model and checking the accuracy\n",
    "count_vect = CountVectorizer(stop_words='english')\n",
    "transformer = TfidfTransformer(norm='l2',sublinear_tf=True)\n",
    "x_train_counts = count_vect.fit_transform(train_data_text.apply(lambda x: ' '.join(x)))\n",
    "x_train_tfidf = transformer.fit_transform(x_train_counts)\n",
    "label=train_data['label'].to_numpy()\n",
    "model=fit_model(x_train_tfidf,label)\n",
    "print(\"length of training data: \", len(train_data))\n",
    "print(\"length of testing data: \", len(test_data))\n",
    "x_test_counts = count_vect.transform(test_data_text.apply(lambda x: ' '.join(x)))\n",
    "x_test_tfidf = transformer.transform(x_test_counts)\n",
    "predictions_train = model.predict(x_train_tfidf)\n",
    "y_test=train_data['label']\n",
    "print('train accuracy : ',accuracy_score(y_test,predictions_train)*100)\n",
    "predictions_test = model.predict(x_test_tfidf)\n",
    "y_test=test_data['label']\n",
    "print('test accuracy: ',accuracy_score(y_test,predictions_test)*100)\n"
   ]
  },
  {
   "cell_type": "code",
   "execution_count": 7,
   "metadata": {},
   "outputs": [
    {
     "name": "stderr",
     "output_type": "stream",
     "text": [
      "<ipython-input-2-9f415afe60e3>:11: FutureWarning: The default value of regex will change from True to False in a future version.\n",
      "  tex=tex.str.replace(r'\\d+','')\n",
      "<ipython-input-2-9f415afe60e3>:13: FutureWarning: The default value of regex will change from True to False in a future version.\n",
      "  tex = tex.str.replace(\"[^a-zA-Z#]\", \" \" )\n",
      "<ipython-input-2-9f415afe60e3>:16: FutureWarning: The default value of regex will change from True to False in a future version. In addition, single character regular expressions will*not* be treated as literal strings when regex=True.\n",
      "  tex = tex.str.replace(\"$\", \" \")\n"
     ]
    },
    {
     "name": "stdout",
     "output_type": "stream",
     "text": [
      "length of training data:  312\n",
      "length of testing data:  87\n",
      "train accuracy :  89.42307692307693\n",
      "test accuracy:  79.3103448275862\n"
     ]
    }
   ],
   "source": [
    "pool_data= pd.read_csv(r\"C:\\Users\\shaha\\Desktop\\IBS\\yelp\\train_data3.csv\",index_col=False)\n",
    "train_data_text=clean(pool_data['text'])\n",
    "test_data_text=clean(test_data['text'])\n",
    "count_vect = CountVectorizer(stop_words='english')\n",
    "transformer = TfidfTransformer(norm='l2',sublinear_tf=True)\n",
    "x_train_counts = count_vect.fit_transform(train_data_text.apply(lambda x: ' '.join(x)))\n",
    "x_train_tfidf = transformer.fit_transform(x_train_counts)\n",
    "label=pool_data['label'].to_numpy()\n",
    "model=fit_model(x_train_tfidf,label)\n",
    "print(\"length of training data: \", len(pool_data))\n",
    "print(\"length of testing data: \", len(test_data))\n",
    "x_test_counts = count_vect.transform(test_data_text.apply(lambda x: ' '.join(x)))\n",
    "x_test_tfidf = transformer.transform(x_test_counts)\n",
    "predictions_train = model.predict(x_train_tfidf)\n",
    "y_test=pool_data['label']\n",
    "print('train accuracy : ',accuracy_score(y_test,predictions_train)*100)\n",
    "predictions_test = model.predict(x_test_tfidf)\n",
    "y_test=test_data['label']\n",
    "print('test accuracy: ',accuracy_score(y_test,predictions_test)*100)"
   ]
  },
  {
   "cell_type": "code",
   "execution_count": 8,
   "metadata": {},
   "outputs": [
    {
     "name": "stderr",
     "output_type": "stream",
     "text": [
      "<ipython-input-2-9f415afe60e3>:11: FutureWarning: The default value of regex will change from True to False in a future version.\n",
      "  tex=tex.str.replace(r'\\d+','')\n",
      "<ipython-input-2-9f415afe60e3>:13: FutureWarning: The default value of regex will change from True to False in a future version.\n",
      "  tex = tex.str.replace(\"[^a-zA-Z#]\", \" \" )\n",
      "<ipython-input-2-9f415afe60e3>:16: FutureWarning: The default value of regex will change from True to False in a future version. In addition, single character regular expressions will*not* be treated as literal strings when regex=True.\n",
      "  tex = tex.str.replace(\"$\", \" \")\n"
     ]
    },
    {
     "name": "stdout",
     "output_type": "stream",
     "text": [
      "length of training data:  412\n",
      "length of testing data:  87\n",
      "train accuracy :  92.71844660194175\n",
      "test accuracy:  82.75862068965517\n"
     ]
    }
   ],
   "source": [
    "pool_data= pd.read_csv(r\"C:\\Users\\shaha\\Desktop\\IBS\\yelp\\train_data4.csv\",index_col=False)\n",
    "train_data_text=clean(pool_data['text'])\n",
    "test_data_text=clean(test_data['text'])\n",
    "count_vect = CountVectorizer(stop_words='english')\n",
    "transformer = TfidfTransformer(norm='l2',sublinear_tf=True)\n",
    "x_train_counts = count_vect.fit_transform(train_data_text.apply(lambda x: ' '.join(x)))\n",
    "x_train_tfidf = transformer.fit_transform(x_train_counts)\n",
    "label=pool_data['label'].to_numpy()\n",
    "model=fit_model(x_train_tfidf,label)\n",
    "print(\"length of training data: \", len(pool_data))\n",
    "print(\"length of testing data: \", len(test_data))\n",
    "x_test_counts = count_vect.transform(test_data_text.apply(lambda x: ' '.join(x)))\n",
    "x_test_tfidf = transformer.transform(x_test_counts)\n",
    "predictions_train = model.predict(x_train_tfidf)\n",
    "y_test=pool_data['label']\n",
    "print('train accuracy : ',accuracy_score(y_test,predictions_train)*100)\n",
    "predictions_test = model.predict(x_test_tfidf)\n",
    "y_test=test_data['label']\n",
    "print('test accuracy: ',accuracy_score(y_test,predictions_test)*100)\n",
    "\n"
   ]
  },
  {
   "cell_type": "code",
   "execution_count": 9,
   "metadata": {},
   "outputs": [
    {
     "name": "stderr",
     "output_type": "stream",
     "text": [
      "<ipython-input-2-9f415afe60e3>:11: FutureWarning: The default value of regex will change from True to False in a future version.\n",
      "  tex=tex.str.replace(r'\\d+','')\n",
      "<ipython-input-2-9f415afe60e3>:13: FutureWarning: The default value of regex will change from True to False in a future version.\n",
      "  tex = tex.str.replace(\"[^a-zA-Z#]\", \" \" )\n",
      "<ipython-input-2-9f415afe60e3>:16: FutureWarning: The default value of regex will change from True to False in a future version. In addition, single character regular expressions will*not* be treated as literal strings when regex=True.\n",
      "  tex = tex.str.replace(\"$\", \" \")\n"
     ]
    },
    {
     "name": "stdout",
     "output_type": "stream",
     "text": [
      "length of training data:  513\n",
      "length of testing data:  87\n",
      "train accuracy :  81.0916179337232\n",
      "test accuracy:  77.01149425287356\n"
     ]
    }
   ],
   "source": [
    "pool_data= pd.read_csv(r\"C:\\Users\\shaha\\Desktop\\IBS\\yelp\\train_data5.csv\",index_col=False)\n",
    "train_data_text=clean(pool_data['text'])\n",
    "test_data_text=clean(test_data['text'])\n",
    "count_vect = CountVectorizer(stop_words='english')\n",
    "transformer = TfidfTransformer(norm='l2',sublinear_tf=True)\n",
    "x_train_counts = count_vect.fit_transform(train_data_text.apply(lambda x: ' '.join(x)))\n",
    "x_train_tfidf = transformer.fit_transform(x_train_counts)\n",
    "label=pool_data['label'].to_numpy()\n",
    "model=fit_model(x_train_tfidf,label)\n",
    "print(\"length of training data: \", len(pool_data))\n",
    "print(\"length of testing data: \", len(test_data))\n",
    "x_test_counts = count_vect.transform(test_data_text.apply(lambda x: ' '.join(x)))\n",
    "x_test_tfidf = transformer.transform(x_test_counts)\n",
    "predictions_train = model.predict(x_train_tfidf)\n",
    "y_test=pool_data['label']\n",
    "print('train accuracy : ',accuracy_score(y_test,predictions_train)*100)\n",
    "predictions_test = model.predict(x_test_tfidf)\n",
    "y_test=test_data['label']\n",
    "print('test accuracy: ',accuracy_score(y_test,predictions_test)*100)\n",
    "\n"
   ]
  },
  {
   "cell_type": "code",
   "execution_count": 10,
   "metadata": {},
   "outputs": [
    {
     "name": "stderr",
     "output_type": "stream",
     "text": [
      "<ipython-input-2-9f415afe60e3>:11: FutureWarning: The default value of regex will change from True to False in a future version.\n",
      "  tex=tex.str.replace(r'\\d+','')\n",
      "<ipython-input-2-9f415afe60e3>:13: FutureWarning: The default value of regex will change from True to False in a future version.\n",
      "  tex = tex.str.replace(\"[^a-zA-Z#]\", \" \" )\n",
      "<ipython-input-2-9f415afe60e3>:16: FutureWarning: The default value of regex will change from True to False in a future version. In addition, single character regular expressions will*not* be treated as literal strings when regex=True.\n",
      "  tex = tex.str.replace(\"$\", \" \")\n"
     ]
    },
    {
     "name": "stdout",
     "output_type": "stream",
     "text": [
      "length of training data:  568\n",
      "length of testing data:  87\n",
      "train accuracy :  74.82394366197182\n",
      "test accuracy:  74.71264367816092\n"
     ]
    }
   ],
   "source": [
    "pool_data= pd.read_csv(r\"C:\\Users\\shaha\\Desktop\\IBS\\yelp\\train_data25.csv\",index_col=False)\n",
    "train_data_text=clean(pool_data['text'])\n",
    "test_data_text=clean(test_data['text'])\n",
    "count_vect = CountVectorizer(stop_words='english')\n",
    "transformer = TfidfTransformer(norm='l2',sublinear_tf=True)\n",
    "x_train_counts = count_vect.fit_transform(train_data_text.apply(lambda x: ' '.join(x)))\n",
    "x_train_tfidf = transformer.fit_transform(x_train_counts)\n",
    "label=pool_data['label'].to_numpy()\n",
    "model=fit_model(x_train_tfidf,label)\n",
    "print(\"length of training data: \", len(pool_data))\n",
    "print(\"length of testing data: \", len(test_data))\n",
    "x_test_counts = count_vect.transform(test_data_text.apply(lambda x: ' '.join(x)))\n",
    "x_test_tfidf = transformer.transform(x_test_counts)\n",
    "predictions_train = model.predict(x_train_tfidf)\n",
    "y_test=pool_data['label']\n",
    "print('train accuracy : ',accuracy_score(y_test,predictions_train)*100)\n",
    "predictions_test = model.predict(x_test_tfidf)\n",
    "y_test=test_data['label']\n",
    "print('test accuracy: ',accuracy_score(y_test,predictions_test)*100)\n",
    "\n"
   ]
  },
  {
   "cell_type": "code",
   "execution_count": 11,
   "metadata": {},
   "outputs": [
    {
     "name": "stderr",
     "output_type": "stream",
     "text": [
      "<ipython-input-2-9f415afe60e3>:11: FutureWarning: The default value of regex will change from True to False in a future version.\n",
      "  tex=tex.str.replace(r'\\d+','')\n",
      "<ipython-input-2-9f415afe60e3>:13: FutureWarning: The default value of regex will change from True to False in a future version.\n",
      "  tex = tex.str.replace(\"[^a-zA-Z#]\", \" \" )\n",
      "<ipython-input-2-9f415afe60e3>:16: FutureWarning: The default value of regex will change from True to False in a future version. In addition, single character regular expressions will*not* be treated as literal strings when regex=True.\n",
      "  tex = tex.str.replace(\"$\", \" \")\n"
     ]
    },
    {
     "name": "stdout",
     "output_type": "stream",
     "text": [
      "length of training data:  613\n",
      "length of testing data:  87\n",
      "train accuracy :  75.69331158238172\n",
      "test accuracy:  74.71264367816092\n"
     ]
    }
   ],
   "source": [
    "pool_data= pd.read_csv(r\"C:\\Users\\shaha\\Desktop\\IBS\\yelp\\train_data261.csv\",index_col=False)\n",
    "train_data_text=clean(pool_data['text'])\n",
    "test_data_text=clean(test_data['text'])\n",
    "count_vect = CountVectorizer(stop_words='english')\n",
    "transformer = TfidfTransformer(norm='l2',sublinear_tf=True)\n",
    "x_train_counts = count_vect.fit_transform(train_data_text.apply(lambda x: ' '.join(x)))\n",
    "x_train_tfidf = transformer.fit_transform(x_train_counts)\n",
    "label=pool_data['label'].to_numpy()\n",
    "model=fit_model(x_train_tfidf,label)\n",
    "print(\"length of training data: \", len(pool_data))\n",
    "print(\"length of testing data: \", len(test_data))\n",
    "x_test_counts = count_vect.transform(test_data_text.apply(lambda x: ' '.join(x)))\n",
    "x_test_tfidf = transformer.transform(x_test_counts)\n",
    "predictions_train = model.predict(x_train_tfidf)\n",
    "y_test=pool_data['label']\n",
    "print('train accuracy : ',accuracy_score(y_test,predictions_train)*100)\n",
    "predictions_test = model.predict(x_test_tfidf)\n",
    "y_test=test_data['label']\n",
    "print('test accuracy: ',accuracy_score(y_test,predictions_test)*100)\n"
   ]
  },
  {
   "cell_type": "code",
   "execution_count": 12,
   "metadata": {},
   "outputs": [
    {
     "name": "stderr",
     "output_type": "stream",
     "text": [
      "<ipython-input-2-9f415afe60e3>:11: FutureWarning: The default value of regex will change from True to False in a future version.\n",
      "  tex=tex.str.replace(r'\\d+','')\n",
      "<ipython-input-2-9f415afe60e3>:13: FutureWarning: The default value of regex will change from True to False in a future version.\n",
      "  tex = tex.str.replace(\"[^a-zA-Z#]\", \" \" )\n",
      "<ipython-input-2-9f415afe60e3>:16: FutureWarning: The default value of regex will change from True to False in a future version. In addition, single character regular expressions will*not* be treated as literal strings when regex=True.\n",
      "  tex = tex.str.replace(\"$\", \" \")\n"
     ]
    },
    {
     "name": "stdout",
     "output_type": "stream",
     "text": [
      "length of training data:  708\n",
      "length of testing data:  87\n",
      "train accuracy :  85.45197740112994\n",
      "test accuracy:  81.60919540229885\n"
     ]
    }
   ],
   "source": [
    "pool_data= pd.read_csv(r\"C:\\Users\\shaha\\Desktop\\IBS\\yelp\\train_data12.csv\",index_col=False)\n",
    "train_data_text=clean(pool_data['text'])\n",
    "test_data_text=clean(test_data['text'])\n",
    "count_vect = CountVectorizer(stop_words='english')\n",
    "transformer = TfidfTransformer(norm='l2',sublinear_tf=True)\n",
    "x_train_counts = count_vect.fit_transform(train_data_text.apply(lambda x: ' '.join(x)))\n",
    "x_train_tfidf = transformer.fit_transform(x_train_counts)\n",
    "label=pool_data['label'].to_numpy()\n",
    "model=fit_model(x_train_tfidf,label)\n",
    "print(\"length of training data: \", len(pool_data))\n",
    "print(\"length of testing data: \", len(test_data))\n",
    "x_test_counts = count_vect.transform(test_data_text.apply(lambda x: ' '.join(x)))\n",
    "x_test_tfidf = transformer.transform(x_test_counts)\n",
    "predictions_train = model.predict(x_train_tfidf)\n",
    "y_test=pool_data['label']\n",
    "print('train accuracy : ',accuracy_score(y_test,predictions_train)*100)\n",
    "predictions_test = model.predict(x_test_tfidf)\n",
    "y_test=test_data['label']\n",
    "print('test accuracy: ',accuracy_score(y_test,predictions_test)*100)\n"
   ]
  },
  {
   "cell_type": "code",
   "execution_count": 13,
   "metadata": {},
   "outputs": [
    {
     "name": "stderr",
     "output_type": "stream",
     "text": [
      "<ipython-input-2-9f415afe60e3>:11: FutureWarning: The default value of regex will change from True to False in a future version.\n",
      "  tex=tex.str.replace(r'\\d+','')\n",
      "<ipython-input-2-9f415afe60e3>:13: FutureWarning: The default value of regex will change from True to False in a future version.\n",
      "  tex = tex.str.replace(\"[^a-zA-Z#]\", \" \" )\n",
      "<ipython-input-2-9f415afe60e3>:16: FutureWarning: The default value of regex will change from True to False in a future version. In addition, single character regular expressions will*not* be treated as literal strings when regex=True.\n",
      "  tex = tex.str.replace(\"$\", \" \")\n"
     ]
    },
    {
     "name": "stdout",
     "output_type": "stream",
     "text": [
      "length of training data:  807\n",
      "length of testing data:  87\n",
      "train accuracy :  93.80421313506815\n",
      "test accuracy:  83.9080459770115\n"
     ]
    }
   ],
   "source": [
    "pool_data= pd.read_csv(r\"C:\\Users\\shaha\\Desktop\\IBS\\yelp\\train_data113.csv\",index_col=False)\n",
    "train_data_text=clean(pool_data['text'])\n",
    "test_data_text=clean(test_data['text'])\n",
    "count_vect = CountVectorizer(stop_words='english')\n",
    "transformer = TfidfTransformer(norm='l2',sublinear_tf=True)\n",
    "x_train_counts = count_vect.fit_transform(train_data_text.apply(lambda x: ' '.join(x)))\n",
    "x_train_tfidf = transformer.fit_transform(x_train_counts)\n",
    "label=pool_data['label'].to_numpy()\n",
    "model=fit_model(x_train_tfidf,label)\n",
    "print(\"length of training data: \", len(pool_data))\n",
    "print(\"length of testing data: \", len(test_data))\n",
    "x_test_counts = count_vect.transform(test_data_text.apply(lambda x: ' '.join(x)))\n",
    "x_test_tfidf = transformer.transform(x_test_counts)\n",
    "predictions_train = model.predict(x_train_tfidf)\n",
    "y_test=pool_data['label']\n",
    "print('train accuracy : ',accuracy_score(y_test,predictions_train)*100)\n",
    "predictions_test = model.predict(x_test_tfidf)\n",
    "y_test=test_data['label']\n",
    "print('test accuracy: ',accuracy_score(y_test,predictions_test)*100)\n",
    "\n"
   ]
  },
  {
   "cell_type": "code",
   "execution_count": 14,
   "metadata": {},
   "outputs": [
    {
     "name": "stderr",
     "output_type": "stream",
     "text": [
      "<ipython-input-2-9f415afe60e3>:11: FutureWarning: The default value of regex will change from True to False in a future version.\n",
      "  tex=tex.str.replace(r'\\d+','')\n",
      "<ipython-input-2-9f415afe60e3>:13: FutureWarning: The default value of regex will change from True to False in a future version.\n",
      "  tex = tex.str.replace(\"[^a-zA-Z#]\", \" \" )\n",
      "<ipython-input-2-9f415afe60e3>:16: FutureWarning: The default value of regex will change from True to False in a future version. In addition, single character regular expressions will*not* be treated as literal strings when regex=True.\n",
      "  tex = tex.str.replace(\"$\", \" \")\n"
     ]
    },
    {
     "name": "stdout",
     "output_type": "stream",
     "text": [
      "length of training data:  905\n",
      "length of testing data:  87\n",
      "train accuracy :  94.69613259668508\n",
      "test accuracy:  86.20689655172413\n"
     ]
    }
   ],
   "source": [
    "pool_data= pd.read_csv(r\"C:\\Users\\shaha\\Desktop\\IBS\\yelp\\train_data114.csv\",index_col=False)\n",
    "train_data_text=clean(pool_data['text'])\n",
    "test_data_text=clean(test_data['text'])\n",
    "count_vect = CountVectorizer(stop_words='english')\n",
    "transformer = TfidfTransformer(norm='l2',sublinear_tf=True)\n",
    "x_train_counts = count_vect.fit_transform(train_data_text.apply(lambda x: ' '.join(x)))\n",
    "x_train_tfidf = transformer.fit_transform(x_train_counts)\n",
    "label=pool_data['label'].to_numpy()\n",
    "model=fit_model(x_train_tfidf,label)\n",
    "print(\"length of training data: \", len(pool_data))\n",
    "print(\"length of testing data: \", len(test_data))\n",
    "x_test_counts = count_vect.transform(test_data_text.apply(lambda x: ' '.join(x)))\n",
    "x_test_tfidf = transformer.transform(x_test_counts)\n",
    "predictions_train = model.predict(x_train_tfidf)\n",
    "y_test=pool_data['label']\n",
    "print('train accuracy : ',accuracy_score(y_test,predictions_train)*100)\n",
    "predictions_test = model.predict(x_test_tfidf)\n",
    "y_test=test_data['label']\n",
    "print('test accuracy: ',accuracy_score(y_test,predictions_test)*100)\n",
    "\n"
   ]
  },
  {
   "cell_type": "code",
   "execution_count": 15,
   "metadata": {},
   "outputs": [
    {
     "name": "stderr",
     "output_type": "stream",
     "text": [
      "<ipython-input-2-9f415afe60e3>:11: FutureWarning: The default value of regex will change from True to False in a future version.\n",
      "  tex=tex.str.replace(r'\\d+','')\n",
      "<ipython-input-2-9f415afe60e3>:13: FutureWarning: The default value of regex will change from True to False in a future version.\n",
      "  tex = tex.str.replace(\"[^a-zA-Z#]\", \" \" )\n",
      "<ipython-input-2-9f415afe60e3>:16: FutureWarning: The default value of regex will change from True to False in a future version. In addition, single character regular expressions will*not* be treated as literal strings when regex=True.\n",
      "  tex = tex.str.replace(\"$\", \" \")\n"
     ]
    },
    {
     "name": "stdout",
     "output_type": "stream",
     "text": [
      "length of training data:  1001\n",
      "length of testing data:  87\n",
      "train accuracy :  95.00499500499501\n",
      "test accuracy:  86.20689655172413\n"
     ]
    }
   ],
   "source": [
    "pool_data= pd.read_csv(r\"C:\\Users\\shaha\\Desktop\\IBS\\yelp\\train_data115.csv\",index_col=False)\n",
    "train_data_text=clean(pool_data['text'])\n",
    "test_data_text=clean(test_data['text'])\n",
    "count_vect = CountVectorizer(stop_words='english')\n",
    "transformer = TfidfTransformer(norm='l2',sublinear_tf=True)\n",
    "x_train_counts = count_vect.fit_transform(train_data_text.apply(lambda x: ' '.join(x)))\n",
    "x_train_tfidf = transformer.fit_transform(x_train_counts)\n",
    "label=pool_data['label'].to_numpy()\n",
    "model=fit_model(x_train_tfidf,label)\n",
    "print(\"length of training data: \", len(pool_data))\n",
    "print(\"length of testing data: \", len(test_data))\n",
    "x_test_counts = count_vect.transform(test_data_text.apply(lambda x: ' '.join(x)))\n",
    "x_test_tfidf = transformer.transform(x_test_counts)\n",
    "predictions_train = model.predict(x_train_tfidf)\n",
    "y_test=pool_data['label']\n",
    "print('train accuracy : ',accuracy_score(y_test,predictions_train)*100)\n",
    "predictions_test = model.predict(x_test_tfidf)\n",
    "y_test=test_data['label']\n",
    "print('test accuracy: ',accuracy_score(y_test,predictions_test)*100)\n",
    "\n"
   ]
  },
  {
   "cell_type": "code",
   "execution_count": 16,
   "metadata": {},
   "outputs": [
    {
     "name": "stderr",
     "output_type": "stream",
     "text": [
      "<ipython-input-2-9f415afe60e3>:11: FutureWarning: The default value of regex will change from True to False in a future version.\n",
      "  tex=tex.str.replace(r'\\d+','')\n",
      "<ipython-input-2-9f415afe60e3>:13: FutureWarning: The default value of regex will change from True to False in a future version.\n",
      "  tex = tex.str.replace(\"[^a-zA-Z#]\", \" \" )\n",
      "<ipython-input-2-9f415afe60e3>:16: FutureWarning: The default value of regex will change from True to False in a future version. In addition, single character regular expressions will*not* be treated as literal strings when regex=True.\n",
      "  tex = tex.str.replace(\"$\", \" \")\n"
     ]
    },
    {
     "name": "stdout",
     "output_type": "stream",
     "text": [
      "length of training data:  1098\n",
      "length of testing data:  87\n",
      "train accuracy :  94.1712204007286\n",
      "test accuracy:  87.35632183908046\n"
     ]
    }
   ],
   "source": [
    "pool_data= pd.read_csv(r\"C:\\Users\\shaha\\Desktop\\IBS\\yelp\\train_data116.csv\",index_col=False)\n",
    "train_data_text=clean(pool_data['text'])\n",
    "test_data_text=clean(test_data['text'])\n",
    "count_vect = CountVectorizer(stop_words='english')\n",
    "transformer = TfidfTransformer(norm='l2',sublinear_tf=True)\n",
    "x_train_counts = count_vect.fit_transform(train_data_text.apply(lambda x: ' '.join(x)))\n",
    "x_train_tfidf = transformer.fit_transform(x_train_counts)\n",
    "label=pool_data['label'].to_numpy()\n",
    "model=fit_model(x_train_tfidf,label)\n",
    "print(\"length of training data: \", len(pool_data))\n",
    "print(\"length of testing data: \", len(test_data))\n",
    "x_test_counts = count_vect.transform(test_data_text.apply(lambda x: ' '.join(x)))\n",
    "x_test_tfidf = transformer.transform(x_test_counts)\n",
    "predictions_train = model.predict(x_train_tfidf)\n",
    "y_test=pool_data['label']\n",
    "print('train accuracy : ',accuracy_score(y_test,predictions_train)*100)\n",
    "predictions_test = model.predict(x_test_tfidf)\n",
    "y_test=test_data['label']\n",
    "print('test accuracy: ',accuracy_score(y_test,predictions_test)*100)\n"
   ]
  },
  {
   "cell_type": "code",
   "execution_count": 17,
   "metadata": {},
   "outputs": [
    {
     "name": "stderr",
     "output_type": "stream",
     "text": [
      "<ipython-input-2-9f415afe60e3>:11: FutureWarning: The default value of regex will change from True to False in a future version.\n",
      "  tex=tex.str.replace(r'\\d+','')\n",
      "<ipython-input-2-9f415afe60e3>:13: FutureWarning: The default value of regex will change from True to False in a future version.\n",
      "  tex = tex.str.replace(\"[^a-zA-Z#]\", \" \" )\n",
      "<ipython-input-2-9f415afe60e3>:16: FutureWarning: The default value of regex will change from True to False in a future version. In addition, single character regular expressions will*not* be treated as literal strings when regex=True.\n",
      "  tex = tex.str.replace(\"$\", \" \")\n"
     ]
    },
    {
     "name": "stdout",
     "output_type": "stream",
     "text": [
      "length of training data:  1197\n",
      "length of testing data:  87\n",
      "train accuracy :  93.81787802840435\n",
      "test accuracy:  88.50574712643679\n"
     ]
    }
   ],
   "source": [
    "pool_data= pd.read_csv(r\"C:\\Users\\shaha\\Desktop\\IBS\\yelp\\train_data117.csv\",index_col=False)\n",
    "train_data_text=clean(pool_data['text'])\n",
    "test_data_text=clean(test_data['text'])\n",
    "count_vect = CountVectorizer(stop_words='english')\n",
    "transformer = TfidfTransformer(norm='l2',sublinear_tf=True)\n",
    "x_train_counts = count_vect.fit_transform(train_data_text.apply(lambda x: ' '.join(x)))\n",
    "x_train_tfidf = transformer.fit_transform(x_train_counts)\n",
    "label=pool_data['label'].to_numpy()\n",
    "model=fit_model(x_train_tfidf,label)\n",
    "print(\"length of training data: \", len(pool_data))\n",
    "print(\"length of testing data: \", len(test_data))\n",
    "x_test_counts = count_vect.transform(test_data_text.apply(lambda x: ' '.join(x)))\n",
    "x_test_tfidf = transformer.transform(x_test_counts)\n",
    "predictions_train = model.predict(x_train_tfidf)\n",
    "y_test=pool_data['label']\n",
    "print('train accuracy : ',accuracy_score(y_test,predictions_train)*100)\n",
    "predictions_test = model.predict(x_test_tfidf)\n",
    "y_test=test_data['label']\n",
    "print('test accuracy: ',accuracy_score(y_test,predictions_test)*100)\n",
    "\n"
   ]
  },
  {
   "cell_type": "code",
   "execution_count": 18,
   "metadata": {},
   "outputs": [
    {
     "name": "stderr",
     "output_type": "stream",
     "text": [
      "<ipython-input-2-9f415afe60e3>:11: FutureWarning: The default value of regex will change from True to False in a future version.\n",
      "  tex=tex.str.replace(r'\\d+','')\n",
      "<ipython-input-2-9f415afe60e3>:13: FutureWarning: The default value of regex will change from True to False in a future version.\n",
      "  tex = tex.str.replace(\"[^a-zA-Z#]\", \" \" )\n",
      "<ipython-input-2-9f415afe60e3>:16: FutureWarning: The default value of regex will change from True to False in a future version. In addition, single character regular expressions will*not* be treated as literal strings when regex=True.\n",
      "  tex = tex.str.replace(\"$\", \" \")\n"
     ]
    },
    {
     "name": "stdout",
     "output_type": "stream",
     "text": [
      "length of training data:  1296\n",
      "length of testing data:  87\n",
      "train accuracy :  92.97839506172839\n",
      "test accuracy:  88.50574712643679\n"
     ]
    }
   ],
   "source": [
    "pool_data= pd.read_csv(r\"C:\\Users\\shaha\\Desktop\\IBS\\yelp\\train_data118.csv\",index_col=False)\n",
    "train_data_text=clean(pool_data['text'])\n",
    "test_data_text=clean(test_data['text'])\n",
    "count_vect = CountVectorizer(stop_words='english')\n",
    "transformer = TfidfTransformer(norm='l2',sublinear_tf=True)\n",
    "x_train_counts = count_vect.fit_transform(train_data_text.apply(lambda x: ' '.join(x)))\n",
    "x_train_tfidf = transformer.fit_transform(x_train_counts)\n",
    "label=pool_data['label'].to_numpy()\n",
    "model=fit_model(x_train_tfidf,label)\n",
    "print(\"length of training data: \", len(pool_data))\n",
    "print(\"length of testing data: \", len(test_data))\n",
    "x_test_counts = count_vect.transform(test_data_text.apply(lambda x: ' '.join(x)))\n",
    "x_test_tfidf = transformer.transform(x_test_counts)\n",
    "predictions_train = model.predict(x_train_tfidf)\n",
    "y_test=pool_data['label']\n",
    "print('train accuracy : ',accuracy_score(y_test,predictions_train)*100)\n",
    "predictions_test = model.predict(x_test_tfidf)\n",
    "y_test=test_data['label']\n",
    "print('test accuracy: ',accuracy_score(y_test,predictions_test)*100)\n",
    "\n"
   ]
  },
  {
   "cell_type": "code",
   "execution_count": 19,
   "metadata": {},
   "outputs": [
    {
     "name": "stderr",
     "output_type": "stream",
     "text": [
      "<ipython-input-2-9f415afe60e3>:11: FutureWarning: The default value of regex will change from True to False in a future version.\n",
      "  tex=tex.str.replace(r'\\d+','')\n",
      "<ipython-input-2-9f415afe60e3>:13: FutureWarning: The default value of regex will change from True to False in a future version.\n",
      "  tex = tex.str.replace(\"[^a-zA-Z#]\", \" \" )\n",
      "<ipython-input-2-9f415afe60e3>:16: FutureWarning: The default value of regex will change from True to False in a future version. In addition, single character regular expressions will*not* be treated as literal strings when regex=True.\n",
      "  tex = tex.str.replace(\"$\", \" \")\n"
     ]
    },
    {
     "name": "stdout",
     "output_type": "stream",
     "text": [
      "length of training data:  1394\n",
      "length of testing data:  87\n",
      "train accuracy :  93.32855093256815\n",
      "test accuracy:  87.35632183908046\n"
     ]
    }
   ],
   "source": [
    "pool_data= pd.read_csv(r\"C:\\Users\\shaha\\Desktop\\IBS\\yelp\\train_data119.csv\",index_col=False)\n",
    "train_data_text=clean(pool_data['text'])\n",
    "test_data_text=clean(test_data['text'])\n",
    "count_vect = CountVectorizer(stop_words='english')\n",
    "transformer = TfidfTransformer(norm='l2',sublinear_tf=True)\n",
    "x_train_counts = count_vect.fit_transform(train_data_text.apply(lambda x: ' '.join(x)))\n",
    "x_train_tfidf = transformer.fit_transform(x_train_counts)\n",
    "label=pool_data['label'].to_numpy()\n",
    "model=fit_model(x_train_tfidf,label)\n",
    "print(\"length of training data: \", len(pool_data))\n",
    "print(\"length of testing data: \", len(test_data))\n",
    "x_test_counts = count_vect.transform(test_data_text.apply(lambda x: ' '.join(x)))\n",
    "x_test_tfidf = transformer.transform(x_test_counts)\n",
    "predictions_train = model.predict(x_train_tfidf)\n",
    "y_test=pool_data['label']\n",
    "print('train accuracy : ',accuracy_score(y_test,predictions_train)*100)\n",
    "predictions_test = model.predict(x_test_tfidf)\n",
    "y_test=test_data['label']\n",
    "print('test accuracy: ',accuracy_score(y_test,predictions_test)*100)\n",
    "\n"
   ]
  },
  {
   "cell_type": "code",
   "execution_count": 20,
   "metadata": {},
   "outputs": [
    {
     "name": "stderr",
     "output_type": "stream",
     "text": [
      "<ipython-input-2-9f415afe60e3>:11: FutureWarning: The default value of regex will change from True to False in a future version.\n",
      "  tex=tex.str.replace(r'\\d+','')\n",
      "<ipython-input-2-9f415afe60e3>:13: FutureWarning: The default value of regex will change from True to False in a future version.\n",
      "  tex = tex.str.replace(\"[^a-zA-Z#]\", \" \" )\n",
      "<ipython-input-2-9f415afe60e3>:16: FutureWarning: The default value of regex will change from True to False in a future version. In addition, single character regular expressions will*not* be treated as literal strings when regex=True.\n",
      "  tex = tex.str.replace(\"$\", \" \")\n"
     ]
    },
    {
     "name": "stdout",
     "output_type": "stream",
     "text": [
      "length of training data:  1499\n",
      "length of testing data:  87\n",
      "train accuracy :  92.12808539026017\n",
      "test accuracy:  87.35632183908046\n"
     ]
    }
   ],
   "source": [
    "pool_data= pd.read_csv(r\"C:\\Users\\shaha\\Desktop\\IBS\\yelp\\train_data120.csv\",index_col=False)\n",
    "train_data_text=clean(pool_data['text'])\n",
    "test_data_text=clean(test_data['text'])\n",
    "count_vect = CountVectorizer(stop_words='english')\n",
    "transformer = TfidfTransformer(norm='l2',sublinear_tf=True)\n",
    "x_train_counts = count_vect.fit_transform(train_data_text.apply(lambda x: ' '.join(x)))\n",
    "x_train_tfidf = transformer.fit_transform(x_train_counts)\n",
    "label=pool_data['label'].to_numpy()\n",
    "model=fit_model(x_train_tfidf,label)\n",
    "print(\"length of training data: \", len(pool_data))\n",
    "print(\"length of testing data: \", len(test_data))\n",
    "x_test_counts = count_vect.transform(test_data_text.apply(lambda x: ' '.join(x)))\n",
    "x_test_tfidf = transformer.transform(x_test_counts)\n",
    "predictions_train = model.predict(x_train_tfidf)\n",
    "y_test=pool_data['label']\n",
    "print('train accuracy : ',accuracy_score(y_test,predictions_train)*100)\n",
    "predictions_test = model.predict(x_test_tfidf)\n",
    "y_test=test_data['label']\n",
    "print('test accuracy: ',accuracy_score(y_test,predictions_test)*100)\n",
    "\n"
   ]
  },
  {
   "cell_type": "code",
   "execution_count": 21,
   "metadata": {},
   "outputs": [
    {
     "name": "stderr",
     "output_type": "stream",
     "text": [
      "<ipython-input-2-9f415afe60e3>:11: FutureWarning: The default value of regex will change from True to False in a future version.\n",
      "  tex=tex.str.replace(r'\\d+','')\n",
      "<ipython-input-2-9f415afe60e3>:13: FutureWarning: The default value of regex will change from True to False in a future version.\n",
      "  tex = tex.str.replace(\"[^a-zA-Z#]\", \" \" )\n",
      "<ipython-input-2-9f415afe60e3>:16: FutureWarning: The default value of regex will change from True to False in a future version. In addition, single character regular expressions will*not* be treated as literal strings when regex=True.\n",
      "  tex = tex.str.replace(\"$\", \" \")\n"
     ]
    },
    {
     "name": "stdout",
     "output_type": "stream",
     "text": [
      "length of training data:  1600\n",
      "length of testing data:  87\n",
      "train accuracy :  93.75\n",
      "test accuracy:  86.20689655172413\n"
     ]
    }
   ],
   "source": [
    "pool_data= pd.read_csv(r\"C:\\Users\\shaha\\Desktop\\IBS\\yelp\\train_data121.csv\",index_col=False)\n",
    "train_data_text=clean(pool_data['text'])\n",
    "test_data_text=clean(test_data['text'])\n",
    "count_vect = CountVectorizer(stop_words='english')\n",
    "transformer = TfidfTransformer(norm='l2',sublinear_tf=True)\n",
    "x_train_counts = count_vect.fit_transform(train_data_text.apply(lambda x: ' '.join(x)))\n",
    "x_train_tfidf = transformer.fit_transform(x_train_counts)\n",
    "label=pool_data['label'].to_numpy()\n",
    "model=fit_model(x_train_tfidf,label)\n",
    "print(\"length of training data: \", len(pool_data))\n",
    "print(\"length of testing data: \", len(test_data))\n",
    "x_test_counts = count_vect.transform(test_data_text.apply(lambda x: ' '.join(x)))\n",
    "x_test_tfidf = transformer.transform(x_test_counts)\n",
    "predictions_train = model.predict(x_train_tfidf)\n",
    "y_test=pool_data['label']\n",
    "print('train accuracy : ',accuracy_score(y_test,predictions_train)*100)\n",
    "predictions_test = model.predict(x_test_tfidf)\n",
    "y_test=test_data['label']\n",
    "print('test accuracy: ',accuracy_score(y_test,predictions_test)*100)\n",
    "\n"
   ]
  },
  {
   "cell_type": "code",
   "execution_count": null,
   "metadata": {},
   "outputs": [],
   "source": [
    "#This is used to clean the unlabelld pool of reviews\n",
    "clean_text_pool=clean(rev['text'])"
   ]
  },
  {
   "cell_type": "code",
   "execution_count": null,
   "metadata": {},
   "outputs": [],
   "source": [
    "#This will help to create a new csv file in which we will have labelled text and queried text (which need to be labelled)\n",
    "x_counts = count_vect.transform(clean_text_pool.apply(lambda x: ' '.join(x)))\n",
    "x_tfidf = transformer.transform(x_counts)\n",
    "sample=model.predict_proba(x_tfidf)\n",
    "rev_id=entropy_sampling(sample)\n",
    "y=[]\n",
    "train_ai=rev.loc[rev_id]\n",
    "train_ai.to_csv(r\"C:\\Users\\shaha\\Desktop\\IBS\\yelp\\train_data121.csv\", mode='a', index=False, header=False)"
   ]
  }
 ],
 "metadata": {
  "interpreter": {
   "hash": "ad2bdc8ecc057115af97d19610ffacc2b4e99fae6737bb82f5d7fb13d2f2c186"
  },
  "kernelspec": {
   "display_name": "Python 3.8.8 ('base')",
   "language": "python",
   "name": "python3"
  },
  "language_info": {
   "codemirror_mode": {
    "name": "ipython",
    "version": 3
   },
   "file_extension": ".py",
   "mimetype": "text/x-python",
   "name": "python",
   "nbconvert_exporter": "python",
   "pygments_lexer": "ipython3",
   "version": "3.8.8"
  },
  "orig_nbformat": 4
 },
 "nbformat": 4,
 "nbformat_minor": 2
}
